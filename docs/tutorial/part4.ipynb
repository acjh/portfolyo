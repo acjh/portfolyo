{
 "cells": [
  {
   "cell_type": "markdown",
   "metadata": {},
   "source": [
    "# Tutorial part 4\n",
    "\n",
    "In [part 3](part3.ipynb) we have learnt about portfolio states. We will continue with that, here.\n",
    "\n",
    "## Example data\n",
    "\n",
    "We start with a similar portfolio state as in the previous part:"
   ]
  },
  {
   "cell_type": "code",
   "execution_count": 3,
   "metadata": {},
   "outputs": [],
   "source": [
    "import portfolyo as pf\n",
    "import pandas as pd\n",
    "\n",
    "index = pd.date_range('2024-09-20', '2024-12-10', freq='15T', inclusive='left', tz='Europe/Berlin')\n",
    "# Creating offtake portfolio line.\n",
    "ts_offtake = -1 * pf.dev.w_offtake(index, avg=50)\n",
    "offtake = pf.PfLine({'w': ts_offtake})\n",
    "# Creating portfolio line with market prices (here: forward price curve).\n",
    "ts_prices = pf.dev.p_marketprices(index, avg=200)\n",
    "prices = pf.PfLine({'p': ts_prices})\n",
    "\n",
    "# Creating portfolio line with sourced volume.\n",
    "ts_sourced_power1, ts_sourced_price1 = pf.dev.wp_sourced(ts_offtake, 'QS', 0.3, p_avg=120)\n",
    "sourced_quarters = pf.PfLine({'w': ts_sourced_power1, 'p': ts_sourced_price1})\n",
    "ts_sourced_power2, ts_sourced_price2 = pf.dev.wp_sourced(ts_offtake, 'MS', 0.2, p_avg=150)\n",
    "sourced_months = pf.PfLine({'w': ts_sourced_power2, 'p': ts_sourced_price2})\n",
    "sourced = pf.MultiPfLine({'quarter_products': sourced_quarters, 'month_products': sourced_months})\n",
    "\n",
    "# Create the portfolio state.\n",
    "ref = pf.PfState(offtake, prices, sourced)"
   ]
  },
  {
   "cell_type": "markdown",
   "metadata": {},
   "source": [
    "### Quick recap\n",
    "\n",
    "The current best-guess procurement price is the following:"
   ]
  },
  {
   "cell_type": "code",
   "execution_count": 10,
   "metadata": {},
   "outputs": [
    {
     "name": "stderr",
     "output_type": "stream",
     "text": [
      "c:\\Users\\ruud.wijtvliet\\Anaconda3\\envs\\pf38\\lib\\site-packages\\pint_pandas\\pint_array.py:648: UnitStrippedWarning: The unit of the quantity is stripped when downcasting to ndarray.\n",
      "  return np.array(qtys, dtype=\"object\", copy=copy)\n"
     ]
    },
    {
     "data": {
      "text/plain": [
       "2024-10-01 00:00:00+02:00    166.33022586942107\n",
       "2024-11-01 00:00:00+01:00      164.470891672878\n",
       "Freq: MS, Name: p, dtype: pint[Eur/MWh]"
      ]
     },
     "execution_count": 10,
     "metadata": {},
     "output_type": "execute_result"
    }
   ],
   "source": [
    "ref.asfreq(\"MS\").pnl_cost.p # or ref.pnl_cost.asfreq(\"MS\").p"
   ]
  },
  {
   "cell_type": "markdown",
   "metadata": {},
   "source": [
    "Our portfolio is only partly hedged..."
   ]
  },
  {
   "cell_type": "code",
   "execution_count": 11,
   "metadata": {},
   "outputs": [
    {
     "name": "stderr",
     "output_type": "stream",
     "text": [
      "c:\\Users\\ruud.wijtvliet\\Anaconda3\\envs\\pf38\\lib\\site-packages\\pint_pandas\\pint_array.py:648: UnitStrippedWarning: The unit of the quantity is stripped when downcasting to ndarray.\n",
      "  return np.array(qtys, dtype=\"object\", copy=copy)\n"
     ]
    },
    {
     "data": {
      "text/plain": [
       "2024-10-01 00:00:00+02:00    0.46655604454524774\n",
       "2024-11-01 00:00:00+01:00     0.5526316876601053\n",
       "Freq: MS, Name: fraction, dtype: pint[]"
      ]
     },
     "execution_count": 11,
     "metadata": {},
     "output_type": "execute_result"
    }
   ],
   "source": [
    "ref.asfreq(\"MS\").sourcedfraction"
   ]
  },
  {
   "cell_type": "markdown",
   "metadata": {},
   "source": [
    "... which means that a market price increase has a significant impact on the procurement price:"
   ]
  },
  {
   "cell_type": "code",
   "execution_count": 12,
   "metadata": {},
   "outputs": [
    {
     "name": "stderr",
     "output_type": "stream",
     "text": [
      "c:\\Users\\ruud.wijtvliet\\Anaconda3\\envs\\pf38\\lib\\site-packages\\pint_pandas\\pint_array.py:648: UnitStrippedWarning: The unit of the quantity is stripped when downcasting to ndarray.\n",
      "  return np.array(qtys, dtype=\"object\", copy=copy)\n"
     ]
    },
    {
     "data": {
      "text/plain": [
       "2024-10-01 00:00:00+02:00    193.00242364215893\n",
       "2024-11-01 00:00:00+01:00     186.8393072898724\n",
       "Freq: MS, Name: p, dtype: pint[Eur/MWh]"
      ]
     },
     "execution_count": 12,
     "metadata": {},
     "output_type": "execute_result"
    }
   ],
   "source": [
    "higherprices = prices + pf.Q_(50, \"Eur/MWh\")\n",
    "pfs_higherprices = ref.set_unsourcedprice(higherprices)\n",
    "pfs_higherprices.asfreq(\"MS\").pnl_cost.p"
   ]
  },
  {
   "cell_type": "markdown",
   "metadata": {},
   "source": [
    "## Hedging\n",
    "\n",
    "Hedging can reduce the sensitivity of our portfolio to changes in the market price. Given the current market price curve, we can calculate how much we'd need to source to obtain a fully hedged portfolio:"
   ]
  },
  {
   "cell_type": "code",
   "execution_count": 15,
   "metadata": {},
   "outputs": [
    {
     "name": "stderr",
     "output_type": "stream",
     "text": [
      "c:\\users\\ruud.wijtvliet\\ruud\\python\\dev\\portfolyo\\portfolyo\\tools\\stamps.py:404: FutureWarning: Timestamp.freq is deprecated and will be removed in a future version.\n",
      "  freq = ts_left.freq\n"
     ]
    }
   ],
   "source": [
    "needed = ref.hedge_of_unsourced(\"vol\", \"MS\")  # volume hedge with month products"
   ]
  },
  {
   "cell_type": "markdown",
   "metadata": {},
   "source": [
    "Let's say we procure exactly that volume. We can add it to the sourced volume in our portfolio state:"
   ]
  },
  {
   "cell_type": "code",
   "execution_count": 18,
   "metadata": {},
   "outputs": [
    {
     "ename": "KeyError",
     "evalue": "\"Found item with unexpected key/name 'newvolume'. Should be one of w, q, p, r, nodim, agn.\"",
     "output_type": "error",
     "traceback": [
      "\u001b[1;31m---------------------------------------------------------------------------\u001b[0m",
      "\u001b[1;31mKeyError\u001b[0m                                  Traceback (most recent call last)",
      "\u001b[1;32mc:\\Users\\ruud.wijtvliet\\Ruud\\Python\\dev\\portfolyo\\docs\\tutorial\\part4.ipynb Cell 12'\u001b[0m in \u001b[0;36m<cell line: 1>\u001b[1;34m()\u001b[0m\n\u001b[1;32m----> <a href='vscode-notebook-cell:/c%3A/Users/ruud.wijtvliet/Ruud/Python/dev/portfolyo/docs/tutorial/part4.ipynb#ch0000005?line=0'>1</a>\u001b[0m pfs_hedged \u001b[39m=\u001b[39m ref\u001b[39m.\u001b[39;49madd_sourced({\u001b[39m\"\u001b[39;49m\u001b[39mnewvolume\u001b[39;49m\u001b[39m\"\u001b[39;49m: needed})\n\u001b[0;32m      <a href='vscode-notebook-cell:/c%3A/Users/ruud.wijtvliet/Ruud/Python/dev/portfolyo/docs/tutorial/part4.ipynb#ch0000005?line=1'>2</a>\u001b[0m pfs_hedged\n",
      "File \u001b[1;32mc:\\users\\ruud.wijtvliet\\ruud\\python\\dev\\portfolyo\\portfolyo\\core\\pfstate\\pfstate.py:203\u001b[0m, in \u001b[0;36mPfState.add_sourced\u001b[1;34m(self, add_sourced)\u001b[0m\n\u001b[0;32m    202\u001b[0m \u001b[39mdef\u001b[39;00m \u001b[39madd_sourced\u001b[39m(\u001b[39mself\u001b[39m, add_sourced: PfLine) \u001b[39m-\u001b[39m\u001b[39m>\u001b[39m PfState:\n\u001b[1;32m--> 203\u001b[0m     \u001b[39mreturn\u001b[39;00m \u001b[39mself\u001b[39m\u001b[39m.\u001b[39mset_sourced(\u001b[39mself\u001b[39;49m\u001b[39m.\u001b[39;49msourced \u001b[39m+\u001b[39;49m add_sourced)\n",
      "File \u001b[1;32mc:\\users\\ruud.wijtvliet\\ruud\\python\\dev\\portfolyo\\portfolyo\\core\\pfline\\enable_arithmatic.py:161\u001b[0m, in \u001b[0;36mPfLineArithmatic.__add__\u001b[1;34m(self, other)\u001b[0m\n\u001b[0;32m    158\u001b[0m \u001b[39mdef\u001b[39;00m \u001b[39m__add__\u001b[39m(\u001b[39mself\u001b[39m: PfLine, other) \u001b[39m-\u001b[39m\u001b[39m>\u001b[39m PfLine:\n\u001b[0;32m    159\u001b[0m     \u001b[39m# interpret dim-agnostic 'other' as price\u001b[39;00m\n\u001b[0;32m    160\u001b[0m     default \u001b[39m=\u001b[39m \u001b[39m\"\u001b[39m\u001b[39mp\u001b[39m\u001b[39m\"\u001b[39m \u001b[39mif\u001b[39;00m \u001b[39mself\u001b[39m\u001b[39m.\u001b[39mkind \u001b[39mis\u001b[39;00m Kind\u001b[39m.\u001b[39mPRICE_ONLY \u001b[39melse\u001b[39;00m \u001b[39mNone\u001b[39;00m\n\u001b[1;32m--> 161\u001b[0m     other \u001b[39m=\u001b[39m interop\u001b[39m.\u001b[39;49mpfline_or_nodimseries(other, \u001b[39mself\u001b[39;49m\u001b[39m.\u001b[39;49mindex, default)\n\u001b[0;32m    163\u001b[0m     \u001b[39m# other is now None, a PfLine, or dimless Series.\u001b[39;00m\n\u001b[0;32m    165\u001b[0m     \u001b[39mif\u001b[39;00m other \u001b[39mis\u001b[39;00m \u001b[39mNone\u001b[39;00m:\n",
      "File \u001b[1;32mc:\\users\\ruud.wijtvliet\\ruud\\python\\dev\\portfolyo\\portfolyo\\core\\pfline\\interop.py:283\u001b[0m, in \u001b[0;36mpfline_or_nodimseries\u001b[1;34m(data, ref_index, agn_default)\u001b[0m\n\u001b[0;32m    280\u001b[0m     \u001b[39mreturn\u001b[39;00m data\n\u001b[0;32m    282\u001b[0m \u001b[39m# Turn into InOp object with timeseries.\u001b[39;00m\n\u001b[1;32m--> 283\u001b[0m inop \u001b[39m=\u001b[39m InOp\u001b[39m.\u001b[39;49mfrom_data(data)\u001b[39m.\u001b[39massign_agn(agn_default)\u001b[39m.\u001b[39mto_timeseries(ref_index)\n\u001b[0;32m    285\u001b[0m \u001b[39mif\u001b[39;00m \u001b[39mnot\u001b[39;00m inop:\n\u001b[0;32m    286\u001b[0m     \u001b[39mreturn\u001b[39;00m \u001b[39mNone\u001b[39;00m\n",
      "File \u001b[1;32mc:\\users\\ruud.wijtvliet\\ruud\\python\\dev\\portfolyo\\portfolyo\\core\\pfline\\interop.py:44\u001b[0m, in \u001b[0;36mInOp.from_data\u001b[1;34m(cls, data)\u001b[0m\n\u001b[0;32m     42\u001b[0m \u001b[39m@classmethod\u001b[39m\n\u001b[0;32m     43\u001b[0m \u001b[39mdef\u001b[39;00m \u001b[39mfrom_data\u001b[39m(\u001b[39mcls\u001b[39m, data):\n\u001b[1;32m---> 44\u001b[0m     \u001b[39mreturn\u001b[39;00m _from_data(data)\n",
      "File \u001b[1;32mc:\\users\\ruud.wijtvliet\\ruud\\python\\dev\\portfolyo\\portfolyo\\core\\pfline\\interop.py:225\u001b[0m, in \u001b[0;36m_from_data\u001b[1;34m(data)\u001b[0m\n\u001b[0;32m    223\u001b[0m         ios \u001b[39m|\u001b[39m\u001b[39m=\u001b[39m InOp(\u001b[39m*\u001b[39m\u001b[39m*\u001b[39m{da: value})\n\u001b[0;32m    224\u001b[0m     \u001b[39melse\u001b[39;00m:\n\u001b[1;32m--> 225\u001b[0m         \u001b[39mraise\u001b[39;00m \u001b[39mKeyError\u001b[39;00m(\n\u001b[0;32m    226\u001b[0m             \u001b[39mf\u001b[39m\u001b[39m\"\u001b[39m\u001b[39mFound item with unexpected key/name \u001b[39m\u001b[39m'\u001b[39m\u001b[39m{\u001b[39;00mkey\u001b[39m}\u001b[39;00m\u001b[39m'\u001b[39m\u001b[39m. Should be one of \u001b[39m\u001b[39m{\u001b[39;00m\u001b[39m'\u001b[39m\u001b[39m, \u001b[39m\u001b[39m'\u001b[39m\u001b[39m.\u001b[39mjoin(_ATTRIBUTES)\u001b[39m}\u001b[39;00m\u001b[39m.\u001b[39m\u001b[39m\"\u001b[39m\n\u001b[0;32m    227\u001b[0m         )\n\u001b[0;32m    228\u001b[0m \u001b[39mif\u001b[39;00m ios \u001b[39mis\u001b[39;00m \u001b[39mNone\u001b[39;00m:\n\u001b[0;32m    229\u001b[0m     \u001b[39mreturn\u001b[39;00m InOp()  \u001b[39m# raises Error\u001b[39;00m\n",
      "\u001b[1;31mKeyError\u001b[0m: \"Found item with unexpected key/name 'newvolume'. Should be one of w, q, p, r, nodim, agn.\""
     ]
    }
   ],
   "source": [
    "pfs_hedged = ref.add_sourced({\"newvolume\": needed})\n",
    "pfs_hedged"
   ]
  },
  {
   "cell_type": "markdown",
   "metadata": {},
   "source": []
  }
 ],
 "metadata": {
  "kernelspec": {
   "display_name": "Python 3.8.13 ('pf38')",
   "language": "python",
   "name": "python3"
  },
  "language_info": {
   "codemirror_mode": {
    "name": "ipython",
    "version": 3
   },
   "file_extension": ".py",
   "mimetype": "text/x-python",
   "name": "python",
   "nbconvert_exporter": "python",
   "pygments_lexer": "ipython3",
   "version": "3.8.13"
  },
  "orig_nbformat": 4,
  "vscode": {
   "interpreter": {
    "hash": "642a4be8010ca5d45039b988c1d8379a91572488c4d23a0b88e966c6713c7e45"
   }
  }
 },
 "nbformat": 4,
 "nbformat_minor": 2
}
