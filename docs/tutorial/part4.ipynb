{
 "cells": [
  {
   "cell_type": "markdown",
   "metadata": {},
   "source": [
    "# Tutorial part 4\n",
    "\n",
    "In [part 3](part3.ipynb) we have learnt about portfolio states. We will continue with that, here.\n",
    "\n",
    "## Example data\n",
    "\n",
    "We start with a similar portfolio state as in the previous part:"
   ]
  },
  {
   "cell_type": "code",
   "execution_count": 1,
   "metadata": {},
   "outputs": [],
   "source": [
    "import portfolyo as pf\n",
    "import pandas as pd\n",
    "\n",
    "index = pd.date_range('2024-09-20', '2024-12-10', freq='15T', inclusive='left', tz='Europe/Berlin')\n",
    "# Creating offtake portfolio line.\n",
    "ts_offtake = -1 * pf.dev.w_offtake(index, avg=50)\n",
    "offtake = pf.PfLine({'w': ts_offtake})\n",
    "# Creating portfolio line with market prices (here: forward price curve).\n",
    "ts_prices = pf.dev.p_marketprices(index, avg=200)\n",
    "prices = pf.PfLine({'p': ts_prices})\n",
    "\n",
    "# Creating portfolio line with sourced volume.\n",
    "ts_sourced_power1, ts_sourced_price1 = pf.dev.wp_sourced(ts_offtake, 'QS', 0.3, p_avg=120)\n",
    "sourced_quarters = pf.PfLine({'w': ts_sourced_power1, 'p': ts_sourced_price1})\n",
    "ts_sourced_power2, ts_sourced_price2 = pf.dev.wp_sourced(ts_offtake, 'MS', 0.2, p_avg=150)\n",
    "sourced_months = pf.PfLine({'w': ts_sourced_power2, 'p': ts_sourced_price2})\n",
    "sourced = pf.MultiPfLine({'quarter_products': sourced_quarters, 'month_products': sourced_months})\n",
    "\n",
    "# Create the portfolio state.\n",
    "ref = pf.PfState(offtake, prices, sourced)"
   ]
  },
  {
   "cell_type": "markdown",
   "metadata": {},
   "source": [
    "### Quick recap\n",
    "\n",
    "The current best-guess procurement price is the following:"
   ]
  },
  {
   "cell_type": "code",
   "execution_count": 2,
   "metadata": {},
   "outputs": [
    {
     "data": {
      "text/plain": [
       "2024-10-01 00:00:00+02:00    178.84459246623723\n",
       "2024-11-01 00:00:00+01:00    182.39459192946475\n",
       "Freq: MS, Name: p, dtype: pint[Eur/MWh]"
      ]
     },
     "execution_count": 2,
     "metadata": {},
     "output_type": "execute_result"
    }
   ],
   "source": [
    "ref.asfreq(\"MS\").pnl_cost.p # or ref.pnl_cost.asfreq(\"MS\").p"
   ]
  },
  {
   "cell_type": "markdown",
   "metadata": {},
   "source": [
    "Our portfolio is only partly hedged..."
   ]
  },
  {
   "cell_type": "code",
   "execution_count": 3,
   "metadata": {},
   "outputs": [
    {
     "data": {
      "text/plain": [
       "2024-10-01 00:00:00+02:00    0.46554768311153116\n",
       "2024-11-01 00:00:00+01:00     0.5844019411391619\n",
       "Freq: MS, Name: fraction, dtype: pint[]"
      ]
     },
     "execution_count": 3,
     "metadata": {},
     "output_type": "execute_result"
    }
   ],
   "source": [
    "ref.asfreq(\"MS\").sourcedfraction"
   ]
  },
  {
   "cell_type": "markdown",
   "metadata": {},
   "source": [
    "... which means that a market price increase has a significant impact on the procurement price:"
   ]
  },
  {
   "cell_type": "code",
   "execution_count": 4,
   "metadata": {},
   "outputs": [
    {
     "data": {
      "text/plain": [
       "2024-10-01 00:00:00+02:00    205.56720831066005\n",
       "2024-11-01 00:00:00+01:00     203.1744948725072\n",
       "Freq: MS, Name: p, dtype: pint[Eur/MWh]"
      ]
     },
     "execution_count": 4,
     "metadata": {},
     "output_type": "execute_result"
    }
   ],
   "source": [
    "higherprices = prices + pf.Q_(50, \"Eur/MWh\")\n",
    "pfs_higherprices = ref.set_unsourcedprice(higherprices)\n",
    "pfs_higherprices.asfreq(\"MS\").pnl_cost.p"
   ]
  },
  {
   "cell_type": "markdown",
   "metadata": {},
   "source": [
    "## Hedging\n",
    "\n",
    "Hedging can reduce the sensitivity of our portfolio to changes in the market price. Given the current market price curve, we can calculate how much we'd need to source to obtain a fully hedged portfolio:"
   ]
  },
  {
   "cell_type": "code",
   "execution_count": 8,
   "metadata": {},
   "outputs": [],
   "source": [
    "needed = ref.hedge_of_unsourced(\"val\", \"MS\")  # value hedge with month products"
   ]
  },
  {
   "cell_type": "markdown",
   "metadata": {},
   "source": [
    "Let's say we procure exactly that volume. We can add it to the sourced volume in our portfolio state:"
   ]
  },
  {
   "cell_type": "code",
   "execution_count": 9,
   "metadata": {},
   "outputs": [
    {
     "name": "stderr",
     "output_type": "stream",
     "text": [
      "c:\\users\\ruud.wijtvliet\\ruud\\python\\dev\\portfolyo\\portfolyo\\core\\pfstate\\pfstate.py:196: UserWarning: This changes the unsourced volume and causes inaccuracies in its price, if the portfolio has a frequency that is longer than the spot market.\n",
      "  warnings.warn(\n"
     ]
    }
   ],
   "source": [
    "hedged = ref.add_sourced(pf.MultiPfLine({\"newvolume\": needed}))\n"
   ]
  },
  {
   "cell_type": "markdown",
   "metadata": {},
   "source": [
    "The portfolio is now hedged at the month level. We can verify this by looking at the unsourced volume. In case of a volume hedge, the unsourced volume (``q`` and ``w``) is 0, even if its monetary value is not; in case of a value hedge, it is the reverse:"
   ]
  },
  {
   "cell_type": "code",
   "execution_count": 11,
   "metadata": {},
   "outputs": [
    {
     "data": {
      "text/plain": [
       "PfLine object with price and volume information.\n",
       ". Timestamps: first: 2024-10-01 00:00:00+02:00     timezone: Europe/Berlin\n",
       "               last: 2024-11-01 00:00:00+01:00         freq: <MonthBegin> (2 datapoints)\n",
       ". Children: none\n",
       "\n",
       "                                     w           q           p             r\n",
       "                                    MW         MWh     Eur/MWh           Eur\n",
       "\n",
       "2024-10-01 00:00:00 +0200         -0.2        -175       -0.00             0\n",
       "2024-11-01 00:00:00 +0100         -0.2        -134       -0.00             0"
      ]
     },
     "execution_count": 11,
     "metadata": {},
     "output_type": "execute_result"
    }
   ],
   "source": [
    "hedged.unsourced.asfreq('MS')"
   ]
  },
  {
   "cell_type": "markdown",
   "metadata": {},
   "source": [
    "Because the market prices have not changed, the best-estimate procurement prices are also unchanged from before:"
   ]
  },
  {
   "cell_type": "code",
   "execution_count": null,
   "metadata": {},
   "outputs": [],
   "source": [
    "hedged.pnl_cost.p - ref.pnl_cost.p"
   ]
  },
  {
   "cell_type": "markdown",
   "metadata": {},
   "source": [
    "### Market price change\n",
    "\n",
    "A hedged profile is less impacted by market price changes. To see that this is indeed the case, let's look at a scenario with an increase in the forward price curve by 40 Eur/MWh, for both portfolio states:"
   ]
  },
  {
   "cell_type": "code",
   "execution_count": 10,
   "metadata": {},
   "outputs": [],
   "source": [
    "newprices = prices + pf.Q_(40, 'Eur/MWh')\n",
    "ref_higherprices = ref.set_unsourcedprice(newprices)\n",
    "hedged_higherprices = hedged.set_unsourcedprice(newprices)"
   ]
  },
  {
   "cell_type": "markdown",
   "metadata": {},
   "source": [
    "The reference portfolio has gotten a lot more expensive, whereas the procurement price for the hedged portfolio has not moved significantly:"
   ]
  },
  {
   "cell_type": "code",
   "execution_count": 13,
   "metadata": {},
   "outputs": [
    {
     "data": {
      "text/html": [
       "<div>\n",
       "<style scoped>\n",
       "    .dataframe tbody tr th:only-of-type {\n",
       "        vertical-align: middle;\n",
       "    }\n",
       "\n",
       "    .dataframe tbody tr th {\n",
       "        vertical-align: top;\n",
       "    }\n",
       "\n",
       "    .dataframe thead tr th {\n",
       "        text-align: left;\n",
       "    }\n",
       "</style>\n",
       "<table border=\"1\" class=\"dataframe\">\n",
       "  <thead>\n",
       "    <tr>\n",
       "      <th></th>\n",
       "      <th colspan=\"2\" halign=\"left\">ref</th>\n",
       "      <th colspan=\"2\" halign=\"left\">hedged</th>\n",
       "    </tr>\n",
       "    <tr>\n",
       "      <th></th>\n",
       "      <th>before</th>\n",
       "      <th>after</th>\n",
       "      <th>before</th>\n",
       "      <th>after</th>\n",
       "    </tr>\n",
       "    <tr>\n",
       "      <th>unit</th>\n",
       "      <th>Eur/MWh</th>\n",
       "      <th>Eur/MWh</th>\n",
       "      <th>Eur/MWh</th>\n",
       "      <th>Eur/MWh</th>\n",
       "    </tr>\n",
       "  </thead>\n",
       "  <tbody>\n",
       "    <tr>\n",
       "      <th>2024-10-01 00:00:00+02:00</th>\n",
       "      <td>178.844592</td>\n",
       "      <td>224.127688</td>\n",
       "      <td>178.844592</td>\n",
       "      <td>178.844592</td>\n",
       "    </tr>\n",
       "    <tr>\n",
       "      <th>2024-11-01 00:00:00+01:00</th>\n",
       "      <td>182.394592</td>\n",
       "      <td>222.304033</td>\n",
       "      <td>182.394592</td>\n",
       "      <td>182.394592</td>\n",
       "    </tr>\n",
       "  </tbody>\n",
       "</table>\n",
       "</div>"
      ],
      "text/plain": [
       "                                  ref                  hedged            \n",
       "                               before       after      before       after\n",
       "unit                          Eur/MWh     Eur/MWh     Eur/MWh     Eur/MWh\n",
       "2024-10-01 00:00:00+02:00  178.844592  224.127688  178.844592  178.844592\n",
       "2024-11-01 00:00:00+01:00  182.394592  222.304033  182.394592  182.394592"
      ]
     },
     "execution_count": 13,
     "metadata": {},
     "output_type": "execute_result"
    }
   ],
   "source": [
    "pd.DataFrame({\n",
    "    ('ref', 'before'): ref.pnl_cost.asfreq('MS').p, \n",
    "    ('ref', 'after'): ref_higherprices.pnl_cost.asfreq('MS').p, \n",
    "    ('hedged', 'before'): hedged.pnl_cost.asfreq('MS').p, \n",
    "    ('hedged', 'after'): hedged_higherprices.pnl_cost.asfreq('MS').p,\n",
    "}).pint.dequantify()"
   ]
  },
  {
   "cell_type": "markdown",
   "metadata": {},
   "source": [
    "For the observant reader: it may seem that the portfolio was not fully hedged after all, as a small change in the procurement price is seen. The reason is that each strategy (i.e., volume or value hedge) fully protects only against a specific price change (i.e., absolute or relative). A volume hedge does not *fully* hedge against an absolute price change such as the one we see here."
   ]
  },
  {
   "cell_type": "markdown",
   "metadata": {},
   "source": []
  }
 ],
 "metadata": {
  "kernelspec": {
   "display_name": "Python 3.8.13 ('pf38')",
   "language": "python",
   "name": "python3"
  },
  "language_info": {
   "codemirror_mode": {
    "name": "ipython",
    "version": 3
   },
   "file_extension": ".py",
   "mimetype": "text/x-python",
   "name": "python",
   "nbconvert_exporter": "python",
   "pygments_lexer": "ipython3",
   "version": "3.8.13"
  },
  "orig_nbformat": 4,
  "vscode": {
   "interpreter": {
    "hash": "642a4be8010ca5d45039b988c1d8379a91572488c4d23a0b88e966c6713c7e45"
   }
  }
 },
 "nbformat": 4,
 "nbformat_minor": 2
}
