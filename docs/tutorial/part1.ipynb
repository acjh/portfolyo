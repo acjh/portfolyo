{
 "cells": [
  {
   "cell_type": "markdown",
   "metadata": {},
   "source": [
    "# Tutorial part 1\n",
    "\n",
    "In this first part, we'll look at the ``PfLine`` class."
   ]
  },
  {
   "cell_type": "markdown",
   "metadata": {},
   "source": [
    "## Imports and example data\n",
    "\n",
    "We start by importing the package. In this tutorial we will always be using the ``pf`` alias. We also import ``pandas`` with its common alias ``pd``."
   ]
  },
  {
   "cell_type": "code",
   "execution_count": 2,
   "metadata": {},
   "outputs": [],
   "source": [
    "import portfolyo as pf\n",
    "import pandas as pd"
   ]
  },
  {
   "cell_type": "markdown",
   "metadata": {},
   "source": [
    "For real-life applications, our input data will likely be a ``pandas.Series`` or ``pandas.DataFrame``, read from an Excel workbook, database, or other data service. Before this data can be used, it must often be \"standardized\" so that it has a certain format. That is not part of this tutorial; see [this section](../specialized_topics/dataprep.rst) for more information on standardizing input data.\n",
    "\n",
    "In order to get some data \"to play with\", ``portfolyo`` has a few mockup-functions which we will use in this tutorial. Let's get some example data for 2024 in daily resolution, as a ``pandas.Series``:"
   ]
  },
  {
   "cell_type": "code",
   "execution_count": 3,
   "metadata": {},
   "outputs": [
    {
     "name": "stderr",
     "output_type": "stream",
     "text": [
      "c:\\Users\\ruud.wijtvliet\\Anaconda3\\envs\\pf38\\lib\\site-packages\\pint_pandas\\pint_array.py:648: UnitStrippedWarning: The unit of the quantity is stripped when downcasting to ndarray.\n",
      "  return np.array(qtys, dtype=\"object\", copy=copy)\n"
     ]
    },
    {
     "data": {
      "text/plain": [
       "2024-01-01    -109.24528776556488\n",
       "2024-01-02     -120.8198883332017\n",
       "2024-01-03    -116.59897097978185\n",
       "2024-01-04    -120.08909380687946\n",
       "2024-01-05     -118.7559590712826\n",
       "                     ...         \n",
       "2024-12-27    -118.65980731390971\n",
       "2024-12-28    -111.71711544924803\n",
       "2024-12-29     -97.14834408635163\n",
       "2024-12-30    -110.22829465107333\n",
       "2024-12-31    -118.38900547664728\n",
       "Freq: D, Name: w, Length: 366, dtype: pint[MW]"
      ]
     },
     "execution_count": 3,
     "metadata": {},
     "output_type": "execute_result"
    }
   ],
   "source": [
    "index = pd.date_range('2024', freq='D', periods=366)\n",
    "ts_offtake = -1 * pf.dev.w_offtake(index)\n",
    "ts_offtake"
   ]
  },
  {
   "cell_type": "markdown",
   "metadata": {},
   "source": [
    "The \"w\" in ``w_offtake`` indicates that the timeseries has *power* values, which we can also see by the ``dtype == \"pint[MW]\"``. See [this section on dimensions and units](../specialized_topics/dimensions.rst) for more information.\n",
    "\n",
    "(If our data source provides timeseries of floats, i.e., without a unit, we can explicitly set the unit with ``.astype(\"pint[MW]\")``.)\n",
    "\n",
    "Sign conventions are a touchy subject for portfolio managers; in this case, the function returns positive values, and we flip the sign to indicate that this volume *leaves* the portfolio.\n",
    "\n",
    "## My first portfolio line\n",
    "\n",
    "One of the main classes defined by ``portfolyo`` is the ``PfLine`` (portfolio line). \n",
    "\n",
    "### Initialisation\n",
    "\n",
    "We can initialise one with the offtake timeseries by passing it as a dictionary value. The corresponding key ``\"w\"`` indicates that we are dealing with power values:"
   ]
  },
  {
   "cell_type": "code",
   "execution_count": 4,
   "metadata": {},
   "outputs": [
    {
     "data": {
      "text/plain": [
       "PfLine object with volume information.\n",
       ". Timestamps: first: 2024-01-01 00:00:00     timezone: None\n",
       "               last: 2024-12-31 00:00:00         freq: <Day> (366 datapoints)\n",
       ". Children: none\n",
       "\n",
       "                                     w           q\n",
       "                                    MW         MWh\n",
       "\n",
       "2024-01-01 00:00:00             -109.2      -2 622\n",
       "2024-01-02 00:00:00             -120.8      -2 900\n",
       "2024-01-03 00:00:00             -116.6      -2 798\n",
       "2024-01-04 00:00:00             -120.1      -2 882\n",
       "2024-01-05 00:00:00             -118.8      -2 850\n",
       "2024-01-06 00:00:00             -110.7      -2 657\n",
       "2024-01-07 00:00:00             -100.8      -2 420\n",
       "2024-01-08 00:00:00             -111.3      -2 671\n",
       "2024-01-09 00:00:00             -120.2      -2 886\n",
       "2024-01-10 00:00:00             -119.5      -2 869\n",
       "..                                  ..          ..\n",
       "2024-12-23 00:00:00             -110.7      -2 656\n",
       "2024-12-24 00:00:00             -117.1      -2 811\n",
       "2024-12-25 00:00:00             -118.9      -2 852\n",
       "2024-12-26 00:00:00             -118.3      -2 838\n",
       "2024-12-27 00:00:00             -118.7      -2 848\n",
       "2024-12-28 00:00:00             -111.7      -2 681\n",
       "2024-12-29 00:00:00              -97.1      -2 332\n",
       "2024-12-30 00:00:00             -110.2      -2 645\n",
       "2024-12-31 00:00:00             -118.4      -2 841"
      ]
     },
     "execution_count": 4,
     "metadata": {},
     "output_type": "execute_result"
    }
   ],
   "source": [
    "offtake = pf.PfLine({\"w\": ts_offtake})\n",
    "offtake"
   ]
  },
  {
   "cell_type": "markdown",
   "metadata": {},
   "source": [
    "There are 3 kinds of portfolio line. The one above is a volume-only portfolyo line, and this volume is shown both as power ``w`` in [MW] and as energy ``q`` in [MWh].\n",
    "\n",
    "We can create a similar portfolio line containing price-only data:"
   ]
  },
  {
   "cell_type": "code",
   "execution_count": 5,
   "metadata": {},
   "outputs": [],
   "source": [
    "ts_prices = pf.dev.p_marketprices(index)\n",
    "prices = pf.PfLine({'p': ts_prices})"
   ]
  },
  {
   "cell_type": "markdown",
   "metadata": {},
   "source": [
    "The third kind is a price-and-volume portfolio line. We can create this, either directly (e.g. by initialising a ``PfLine`` with a dictiory having both an ``'q'`` and ``'r'`` key), or through arithmatic (see below)."
   ]
  },
  {
   "cell_type": "markdown",
   "metadata": {},
   "source": [
    "Let's have a look at some of the features of the ``PfLine`` class.\n",
    "\n",
    "### Plotting\n",
    "\n",
    "A good first look at the data is graphically. For this we can use the ``.plot()`` method:"
   ]
  },
  {
   "cell_type": "code",
   "execution_count": 6,
   "metadata": {},
   "outputs": [
    {
     "name": "stderr",
     "output_type": "stream",
     "text": [
      "c:\\Users\\ruud.wijtvliet\\Anaconda3\\envs\\pf38\\lib\\site-packages\\pandas\\core\\dtypes\\cast.py:1981: UnitStrippedWarning: The unit of the quantity is stripped when downcasting to ndarray.\n",
      "  result[:] = values\n",
      "c:\\Users\\ruud.wijtvliet\\Anaconda3\\envs\\pf38\\lib\\site-packages\\pint_pandas\\pint_array.py:648: UnitStrippedWarning: The unit of the quantity is stripped when downcasting to ndarray.\n",
      "  return np.array(qtys, dtype=\"object\", copy=copy)\n"
     ]
    },
    {
     "data": {
      "image/png": "[encoded data removed]",
      "text/plain": [
       "<Figure size 720x216 with 1 Axes>"
      ]
     },
     "execution_count": 6,
     "metadata": {},
     "output_type": "execute_result"
    },
    {
     "data": {
      "image/png": "[encoded data removed]",
      "text/plain": [
       "<Figure size 720x216 with 1 Axes>"
      ]
     },
     "metadata": {
      "needs_background": "light"
     },
     "output_type": "display_data"
    }
   ],
   "source": [
    "offtake.plot()"
   ]
  },
  {
   "cell_type": "markdown",
   "metadata": {},
   "source": [
    "### Resampling\n",
    "\n",
    "Often we will want to aggregate the data to another frequency. For this we can use the ``.asfreq()`` method, e.g., to get quarterly values:"
   ]
  },
  {
   "cell_type": "code",
   "execution_count": 7,
   "metadata": {},
   "outputs": [
    {
     "data": {
      "text/plain": [
       "PfLine object with price information.\n",
       ". Timestamps: first: 2024-01-01 00:00:00     timezone: None\n",
       "               last: 2024-10-01 00:00:00         freq: <QuarterBegin: startingMonth=1> (4 datapoints)\n",
       ". Children: none\n",
       "\n",
       "                                    p\n",
       "                              Eur/MWh\n",
       "\n",
       "2024-01-01 00:00:00            120.90\n",
       "2024-04-01 00:00:00             82.44\n",
       "2024-07-01 00:00:00             78.99\n",
       "2024-10-01 00:00:00            117.56"
      ]
     },
     "execution_count": 7,
     "metadata": {},
     "output_type": "execute_result"
    }
   ],
   "source": [
    "prices.asfreq('QS')"
   ]
  },
  {
   "cell_type": "markdown",
   "metadata": {},
   "source": [
    "(``portfolyo`` ensures that the values are aggregated correctly. In this case, the price (``p``) values are weighted-averaged (weighted with the duration of each datapoint - in this case a uniform 24h). See [Resampling](../specialized_topics/resampling.rst) for more information.)\n",
    "\n",
    "The argument ``\"QS\"`` specifies that we want quarterly values. The allowed values, in decreasing duration, are in the ``pf.FREQUENCIES`` constant (``\"15T\"`` means quarterhourly):"
   ]
  },
  {
   "cell_type": "code",
   "execution_count": 8,
   "metadata": {},
   "outputs": [
    {
     "data": {
      "text/plain": [
       "['AS', 'QS', 'MS', 'D', 'H', '15T']"
      ]
     },
     "execution_count": 8,
     "metadata": {},
     "output_type": "execute_result"
    }
   ],
   "source": [
    "pf.FREQUENCIES"
   ]
  },
  {
   "cell_type": "markdown",
   "metadata": {},
   "source": [
    "### Extracting data\n",
    "\n",
    "If we want to extract the data in a portfolio line, we have several options.\n",
    "\n",
    "Firstly, we can obtain well-known ``pandas.Series``, with the properties ``.w``, ``.q``, ``.p``, ``.r``. For the offtake portfolio line, only ``.w`` and ``.q`` return non-NaN-values; for the price portfolio line, it is only ``.p``:"
   ]
  },
  {
   "cell_type": "code",
   "execution_count": 9,
   "metadata": {},
   "outputs": [
    {
     "name": "stderr",
     "output_type": "stream",
     "text": [
      "c:\\Users\\ruud.wijtvliet\\Anaconda3\\envs\\pf38\\lib\\site-packages\\pint_pandas\\pint_array.py:648: UnitStrippedWarning: The unit of the quantity is stripped when downcasting to ndarray.\n",
      "  return np.array(qtys, dtype=\"object\", copy=copy)\n"
     ]
    },
    {
     "data": {
      "text/plain": [
       "2024-01-01    134.47496375578058\n",
       "2024-01-02    133.29093392195819\n",
       "2024-01-03    129.28921635861454\n",
       "2024-01-04    125.48318601110948\n",
       "2024-01-05     124.7388613599846\n",
       "                     ...        \n",
       "2024-12-27    123.37095664514214\n",
       "2024-12-28    126.24882933415036\n",
       "2024-12-29    130.58180253056403\n",
       "2024-12-30    133.10705904093814\n",
       "2024-12-31    131.92302920711575\n",
       "Freq: D, Name: p, Length: 366, dtype: pint[Eur/MW/h]"
      ]
     },
     "execution_count": 9,
     "metadata": {},
     "output_type": "execute_result"
    }
   ],
   "source": [
    "prices.p"
   ]
  },
  {
   "cell_type": "markdown",
   "metadata": {},
   "source": [
    "As can be seen from the data type, this series includes the unit (using the ``pint`` package), but this can be easily stripped with ``.pint.m``, returning a plain timeseries of floats.\n",
    "\n",
    "We can also obtain a ``pandas.DataFrame`` with the ``.df()`` method. Here too the unit is included. In this case, it can be stripped (and inserted as a column level) with ``.pint.dequantify()``, as demonstrated here:"
   ]
  },
  {
   "cell_type": "code",
   "execution_count": 10,
   "metadata": {},
   "outputs": [
    {
     "data": {
      "text/html": [
       "<div>\n",
       "<style scoped>\n",
       "    .dataframe tbody tr th:only-of-type {\n",
       "        vertical-align: middle;\n",
       "    }\n",
       "\n",
       "    .dataframe tbody tr th {\n",
       "        vertical-align: top;\n",
       "    }\n",
       "\n",
       "    .dataframe thead tr th {\n",
       "        text-align: left;\n",
       "    }\n",
       "</style>\n",
       "<table border=\"1\" class=\"dataframe\">\n",
       "  <thead>\n",
       "    <tr>\n",
       "      <th></th>\n",
       "      <th>w</th>\n",
       "      <th>q</th>\n",
       "    </tr>\n",
       "    <tr>\n",
       "      <th>unit</th>\n",
       "      <th>MW</th>\n",
       "      <th>MW·h</th>\n",
       "    </tr>\n",
       "  </thead>\n",
       "  <tbody>\n",
       "    <tr>\n",
       "      <th>2024-01-01</th>\n",
       "      <td>-109.245288</td>\n",
       "      <td>-2621.886906</td>\n",
       "    </tr>\n",
       "    <tr>\n",
       "      <th>2024-01-02</th>\n",
       "      <td>-120.819888</td>\n",
       "      <td>-2899.677320</td>\n",
       "    </tr>\n",
       "    <tr>\n",
       "      <th>2024-01-03</th>\n",
       "      <td>-116.598971</td>\n",
       "      <td>-2798.375304</td>\n",
       "    </tr>\n",
       "    <tr>\n",
       "      <th>2024-01-04</th>\n",
       "      <td>-120.089094</td>\n",
       "      <td>-2882.138251</td>\n",
       "    </tr>\n",
       "    <tr>\n",
       "      <th>2024-01-05</th>\n",
       "      <td>-118.755959</td>\n",
       "      <td>-2850.143018</td>\n",
       "    </tr>\n",
       "    <tr>\n",
       "      <th>...</th>\n",
       "      <td>...</td>\n",
       "      <td>...</td>\n",
       "    </tr>\n",
       "    <tr>\n",
       "      <th>2024-12-27</th>\n",
       "      <td>-118.659807</td>\n",
       "      <td>-2847.835376</td>\n",
       "    </tr>\n",
       "    <tr>\n",
       "      <th>2024-12-28</th>\n",
       "      <td>-111.717115</td>\n",
       "      <td>-2681.210771</td>\n",
       "    </tr>\n",
       "    <tr>\n",
       "      <th>2024-12-29</th>\n",
       "      <td>-97.148344</td>\n",
       "      <td>-2331.560258</td>\n",
       "    </tr>\n",
       "    <tr>\n",
       "      <th>2024-12-30</th>\n",
       "      <td>-110.228295</td>\n",
       "      <td>-2645.479072</td>\n",
       "    </tr>\n",
       "    <tr>\n",
       "      <th>2024-12-31</th>\n",
       "      <td>-118.389005</td>\n",
       "      <td>-2841.336131</td>\n",
       "    </tr>\n",
       "  </tbody>\n",
       "</table>\n",
       "<p>366 rows × 2 columns</p>\n",
       "</div>"
      ],
      "text/plain": [
       "                     w            q\n",
       "unit                MW         MW·h\n",
       "2024-01-01 -109.245288 -2621.886906\n",
       "2024-01-02 -120.819888 -2899.677320\n",
       "2024-01-03 -116.598971 -2798.375304\n",
       "2024-01-04 -120.089094 -2882.138251\n",
       "2024-01-05 -118.755959 -2850.143018\n",
       "...                ...          ...\n",
       "2024-12-27 -118.659807 -2847.835376\n",
       "2024-12-28 -111.717115 -2681.210771\n",
       "2024-12-29  -97.148344 -2331.560258\n",
       "2024-12-30 -110.228295 -2645.479072\n",
       "2024-12-31 -118.389005 -2841.336131\n",
       "\n",
       "[366 rows x 2 columns]"
      ]
     },
     "execution_count": 10,
     "metadata": {},
     "output_type": "execute_result"
    }
   ],
   "source": [
    "offtake.df().pint.dequantify()"
   ]
  },
  {
   "cell_type": "markdown",
   "metadata": {},
   "source": [
    "Finally, we can export the data to an Excel workbook with the ``.to_excel()`` method, or copy it to the clipboard (to be pasted into e.g. Excel) with the ``.to_clipboard()`` method:"
   ]
  },
  {
   "cell_type": "code",
   "execution_count": 11,
   "metadata": {},
   "outputs": [],
   "source": [
    "offtake.to_clipboard()"
   ]
  },
  {
   "cell_type": "markdown",
   "metadata": {},
   "source": [
    "## Arithmatic with portfolio lines\n",
    "\n",
    "We can do arithmatic with portfolio line. For details on what is possible and which are the return values, see the table [here](../core/pfline.rst#operations-arithmatic). \n",
    "\n",
    "A useful function is ``pf.Q_()``, which returns a single ``pint.Quantity`` and understands various units:"
   ]
  },
  {
   "cell_type": "code",
   "execution_count": 12,
   "metadata": {},
   "outputs": [
    {
     "data": {
      "text/plain": [
       "True"
      ]
     },
     "execution_count": 12,
     "metadata": {},
     "output_type": "execute_result"
    }
   ],
   "source": [
    "pf.Q_(200.0, \"MW\") == pf.Q_(0.2, \"GW\") == pf.Q_(12.0, 'GJ/min')"
   ]
  },
  {
   "cell_type": "markdown",
   "metadata": {},
   "source": [
    "### Adding / Subtracting fixed value\n",
    "\n",
    "We can increase the offtake by a uniform 200 MW like so: (``-`` due to the offtake being negative.)"
   ]
  },
  {
   "cell_type": "code",
   "execution_count": 13,
   "metadata": {},
   "outputs": [
    {
     "data": {
      "text/plain": [
       "PfLine object with volume information.\n",
       ". Timestamps: first: 2024-01-01 00:00:00     timezone: None\n",
       "               last: 2024-12-31 00:00:00         freq: <Day> (366 datapoints)\n",
       ". Children: none\n",
       "\n",
       "                                     w           q\n",
       "                                    MW         MWh\n",
       "\n",
       "2024-01-01 00:00:00             -309.2      -7 422\n",
       "2024-01-02 00:00:00             -320.8      -7 700\n",
       "2024-01-03 00:00:00             -316.6      -7 598\n",
       "2024-01-04 00:00:00             -320.1      -7 682\n",
       "2024-01-05 00:00:00             -318.8      -7 650\n",
       "2024-01-06 00:00:00             -310.7      -7 457\n",
       "2024-01-07 00:00:00             -300.8      -7 220\n",
       "2024-01-08 00:00:00             -311.3      -7 471\n",
       "2024-01-09 00:00:00             -320.2      -7 686\n",
       "2024-01-10 00:00:00             -319.5      -7 669\n",
       "..                                  ..          ..\n",
       "2024-12-23 00:00:00             -310.7      -7 456\n",
       "2024-12-24 00:00:00             -317.1      -7 611\n",
       "2024-12-25 00:00:00             -318.9      -7 652\n",
       "2024-12-26 00:00:00             -318.3      -7 638\n",
       "2024-12-27 00:00:00             -318.7      -7 648\n",
       "2024-12-28 00:00:00             -311.7      -7 481\n",
       "2024-12-29 00:00:00             -297.1      -7 132\n",
       "2024-12-30 00:00:00             -310.2      -7 445\n",
       "2024-12-31 00:00:00             -318.4      -7 641"
      ]
     },
     "execution_count": 13,
     "metadata": {},
     "output_type": "execute_result"
    }
   ],
   "source": [
    "offtake - pf.Q_(0.2, 'GW')"
   ]
  },
  {
   "cell_type": "markdown",
   "metadata": {},
   "source": [
    "Alternatively, if we prefer to work with floats, we could also use a dictionary to specify the power, like so: ``offtake - {\"q\": 200}``. In this case, it is assumed that our value is in the default unit.\n",
    "\n",
    "### Multiplying / Dividing with fixed factor\n",
    "\n",
    "Likewise we can multiply the data with a factor. If the offtake increases to 120%, we get"
   ]
  },
  {
   "cell_type": "code",
   "execution_count": 1,
   "metadata": {},
   "outputs": [
    {
     "ename": "NameError",
     "evalue": "name 'offtake' is not defined",
     "output_type": "error",
     "traceback": [
      "\u001b[1;31m---------------------------------------------------------------------------\u001b[0m",
      "\u001b[1;31mNameError\u001b[0m                                 Traceback (most recent call last)",
      "\u001b[1;32mc:\\Users\\ruud.wijtvliet\\Ruud\\Python\\dev\\portfolyo\\docs\\tutorial\\part1.ipynb Cell 28'\u001b[0m in \u001b[0;36m<cell line: 1>\u001b[1;34m()\u001b[0m\n\u001b[1;32m----> <a href='vscode-notebook-cell:/c%3A/Users/ruud.wijtvliet/Ruud/Python/dev/portfolyo/docs/tutorial/part1.ipynb#ch0000027?line=0'>1</a>\u001b[0m offtake \u001b[39m*\u001b[39m \u001b[39m1.2\u001b[39m\n",
      "\u001b[1;31mNameError\u001b[0m: name 'offtake' is not defined"
     ]
    }
   ],
   "source": [
    "offtake * 1.2"
   ]
  },
  {
   "cell_type": "markdown",
   "metadata": {},
   "source": [
    "### Arithmatic using timeseries\n",
    "\n",
    "We don't have to use uniform values: we can also use other timeseries as operands. For example, if we expect a steady increase of the offtake, we can create a timeseries like this:"
   ]
  },
  {
   "cell_type": "code",
   "execution_count": 15,
   "metadata": {},
   "outputs": [
    {
     "data": {
      "text/plain": [
       "2024-01-01    0.000000\n",
       "2024-01-02    0.002055\n",
       "2024-01-03    0.004110\n",
       "2024-01-04    0.006164\n",
       "2024-01-05    0.008219\n",
       "                ...   \n",
       "2024-12-27    0.741781\n",
       "2024-12-28    0.743836\n",
       "2024-12-29    0.745890\n",
       "2024-12-30    0.747945\n",
       "2024-12-31    0.750000\n",
       "Freq: D, Length: 366, dtype: float64"
      ]
     },
     "execution_count": 15,
     "metadata": {},
     "output_type": "execute_result"
    }
   ],
   "source": [
    "yearfraction = (index - index[0])/(index[-1] - index[0]) # values from 0 at start of index to 1 at end\n",
    "increase = pd.Series(yearfraction * 0.75, index)\n",
    "increase"
   ]
  },
  {
   "cell_type": "markdown",
   "metadata": {},
   "source": [
    "... which can be multiplied with the offtake in the following way, to increase the offtake with a varying percentage, that ranges from +0% on Jan 01 to +75% on Dec. 31:"
   ]
  },
  {
   "cell_type": "code",
   "execution_count": 16,
   "metadata": {},
   "outputs": [
    {
     "name": "stderr",
     "output_type": "stream",
     "text": [
      "c:\\Users\\ruud.wijtvliet\\Anaconda3\\envs\\pf38\\lib\\site-packages\\pandas\\core\\dtypes\\cast.py:1981: UnitStrippedWarning: The unit of the quantity is stripped when downcasting to ndarray.\n",
      "  result[:] = values\n",
      "c:\\Users\\ruud.wijtvliet\\Anaconda3\\envs\\pf38\\lib\\site-packages\\pint_pandas\\pint_array.py:648: UnitStrippedWarning: The unit of the quantity is stripped when downcasting to ndarray.\n",
      "  return np.array(qtys, dtype=\"object\", copy=copy)\n"
     ]
    },
    {
     "data": {
      "image/png": "[encoded data removed]",
      "text/plain": [
       "<Figure size 720x216 with 1 Axes>"
      ]
     },
     "execution_count": 16,
     "metadata": {},
     "output_type": "execute_result"
    },
    {
     "data": {
      "image/png": "[encoded data removed]",
      "text/plain": [
       "<Figure size 720x216 with 1 Axes>"
      ]
     },
     "metadata": {
      "needs_background": "light"
     },
     "output_type": "display_data"
    }
   ],
   "source": [
    "more_offtake = offtake * (1 + increase)\n",
    "more_offtake.plot()"
   ]
  },
  {
   "cell_type": "markdown",
   "metadata": {},
   "source": [
    "### Combining volume and price\n",
    "\n",
    "We can also combine the offtake volume with a price, which gives us a price-and-volume portfolio line. We can use fixed values, like here:"
   ]
  },
  {
   "cell_type": "code",
   "execution_count": 17,
   "metadata": {},
   "outputs": [
    {
     "data": {
      "text/plain": [
       "PfLine object with price and volume information.\n",
       ". Timestamps: first: 2024-01-01 00:00:00     timezone: None\n",
       "               last: 2024-12-31 00:00:00         freq: <Day> (366 datapoints)\n",
       ". Children: none\n",
       "\n",
       "                                     w           q           p             r\n",
       "                                    MW         MWh     Eur/MWh           Eur\n",
       "\n",
       "2024-01-01 00:00:00             -109.2      -2 622      110.00      -288 408\n",
       "2024-01-02 00:00:00             -120.8      -2 900      110.00      -318 965\n",
       "2024-01-03 00:00:00             -116.6      -2 798      110.00      -307 821\n",
       "2024-01-04 00:00:00             -120.1      -2 882      110.00      -317 035\n",
       "2024-01-05 00:00:00             -118.8      -2 850      110.00      -313 516\n",
       "2024-01-06 00:00:00             -110.7      -2 657      110.00      -292 318\n",
       "2024-01-07 00:00:00             -100.8      -2 420      110.00      -266 186\n",
       "2024-01-08 00:00:00             -111.3      -2 671      110.00      -293 784\n",
       "2024-01-09 00:00:00             -120.2      -2 886      110.00      -317 442\n",
       "2024-01-10 00:00:00             -119.5      -2 869      110.00      -315 570\n",
       "..                                  ..          ..          ..            ..\n",
       "2024-12-23 00:00:00             -110.7      -2 656      110.00      -292 213\n",
       "2024-12-24 00:00:00             -117.1      -2 811      110.00      -309 169\n",
       "2024-12-25 00:00:00             -118.9      -2 852      110.00      -313 766\n",
       "2024-12-26 00:00:00             -118.3      -2 838      110.00      -312 230\n",
       "2024-12-27 00:00:00             -118.7      -2 848      110.00      -313 262\n",
       "2024-12-28 00:00:00             -111.7      -2 681      110.00      -294 933\n",
       "2024-12-29 00:00:00              -97.1      -2 332      110.00      -256 472\n",
       "2024-12-30 00:00:00             -110.2      -2 645      110.00      -291 003\n",
       "2024-12-31 00:00:00             -118.4      -2 841      110.00      -312 547"
      ]
     },
     "execution_count": 17,
     "metadata": {},
     "output_type": "execute_result"
    }
   ],
   "source": [
    "offtake * pf.Q_(11, 'ctEur/kWh')"
   ]
  },
  {
   "cell_type": "markdown",
   "metadata": {},
   "source": [
    "... or timeseries or other ``PfLine`` instances, like here:"
   ]
  },
  {
   "cell_type": "code",
   "execution_count": 18,
   "metadata": {},
   "outputs": [],
   "source": [
    "valued_offtake = offtake * prices  # multiplying two PfLines"
   ]
  },
  {
   "cell_type": "markdown",
   "metadata": {},
   "source": [
    "The resulting portfolio lines can again be resampled:"
   ]
  },
  {
   "cell_type": "code",
   "execution_count": 19,
   "metadata": {},
   "outputs": [
    {
     "data": {
      "text/plain": [
       "PfLine object with price and volume information.\n",
       ". Timestamps: first: 2024-01-01 00:00:00     timezone: None\n",
       "               last: 2024-10-01 00:00:00         freq: <QuarterBegin: startingMonth=1> (4 datapoints)\n",
       ". Children: none\n",
       "\n",
       "                                     w           q           p             r\n",
       "                                    MW         MWh     Eur/MWh           Eur\n",
       "\n",
       "2024-01-01 00:00:00             -109.9    -240 098      121.14   -29 085 413\n",
       "2024-04-01 00:00:00              -85.5    -186 727       83.14   -15 524 887\n",
       "2024-07-01 00:00:00              -78.4    -173 099       79.28   -13 723 753\n",
       "2024-10-01 00:00:00             -103.2    -227 875      118.10   -26 912 769"
      ]
     },
     "execution_count": 19,
     "metadata": {},
     "output_type": "execute_result"
    }
   ],
   "source": [
    "valued_offtake.asfreq('QS')"
   ]
  },
  {
   "cell_type": "markdown",
   "metadata": {},
   "source": [
    "Note that, even though ``prices`` and ``valued_offtake`` use the same price values at the daily resolution, the prices at quarterly resolution are slightly different. This is not an error: the prices in ``valued_offtake`` are weighted with the energy in each timestamp.\n",
    "\n",
    "This tutorial is continued [in part 2](part2.ipynb)."
   ]
  }
 ],
 "metadata": {
  "kernelspec": {
   "display_name": "Python 3.8.13 ('pf38')",
   "language": "python",
   "name": "python3"
  },
  "language_info": {
   "codemirror_mode": {
    "name": "ipython",
    "version": 3
   },
   "file_extension": ".py",
   "mimetype": "text/x-python",
   "name": "python",
   "nbconvert_exporter": "python",
   "pygments_lexer": "ipython3",
   "version": "3.8.13"
  },
  "orig_nbformat": 4,
  "vscode": {
   "interpreter": {
    "hash": "642a4be8010ca5d45039b988c1d8379a91572488c4d23a0b88e966c6713c7e45"
   }
  }
 },
 "nbformat": 4,
 "nbformat_minor": 2
}
